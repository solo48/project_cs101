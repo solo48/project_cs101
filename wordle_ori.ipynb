'''
LOAD WORDS / DICTIONARY OF 5 LETTER WORDS, THEN MAKE POSSIBLE ANSWER
'''
#load words
def load_words(file_name):
    file = open(file_name)
    words = file.readlines()
    file.close()
    #Return only the first 5 letters to remove \n in the .txt file.
    return [word[:5].upper() for word in words] 
english_dict = load_words('five_letter_words.txt')
wordle_ans = load_words('wordle-answers-alphabetical.txt')
#download the files to continue running the game

#checking for missing words in the english dictionary, but used in the wordle answer
for word in wordle_ans:
    if word not in english_dict:
        english_dict.append(word)

import random
answer = random.choice(wordle_ans)
answer = str(answer)

#Make a function to find every unique 5-letter in a word
def letter_letter(text):
    letter_list = []
    for i in range(5):
        letter_list.append(text[i])
    return letter_list
def unique_letter(text):
    unique_list = [text[0]]
    for i in range(1,5):
        if text[i] not in unique_list:
            unique_list.append(text[i])
    return unique_list
answ_unique = unique_letter(answer)
answ_list = letter_letter(answer)        
        
'''
In Python Game
'''

respond = ['','','','','']
trial = 1
print(answer)
print("Please use all capital words when filling in the guesses")
print("You have 5 tries")
while trial<6:
    ans = str(input("Guess " + str(trial) + ": ")).upper()
    word = ''
    word_list = []
    word_unique = []
    if ans != answer:
        if (len(ans) < 5) == True or (len(ans) > 5) == True:
            print("Must be 5 letters")
            continue
        else:
            for j in range(len(english_dict)+1):
                if j == len(english_dict):
                    print("Not in dictionary")
                    break
                elif ans == english_dict[j]:
                    print("Wrong Guess")
                    word = english_dict[j]
                    word_list = letter_letter(word)
                    word_unique = unique_letter(word)
                    
                    for k in range(5):
                        if word_list[k] == answ_list[k]:
                            respond[k] = word_list[k]
                    print("Current Guess:")
                    print(respond)
                    print("There are the letters:" )
                    for h in range(len(word_list)):
                        if word_unique[h] in answ_unique:
                            print(word_list[h])
                    
                    trial+=1
                    break
    elif ans == answer:
        print("You are right in guess " + str(trial) + " !!!") 
        break
